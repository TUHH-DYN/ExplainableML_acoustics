{
 "cells": [
  {
   "cell_type": "markdown",
   "metadata": {},
   "source": [
    "(c) Merten Stender, Hamburg University of Technology, Dynamics Group (www.tuhh.de/dyn), m.stender@tuhh.de\n",
    "\n",
    "# Data preparation for the univariate modeling task\n",
    "\n",
    "single-label (i.e. one feature dimension at a time) multi-class classification task\n",
    "\n",
    "creates local copies of the data set with the train and test data split (and for each downsampling rate considered in this work) which will be used to train the univariate models\n"
   ]
  },
  {
   "cell_type": "markdown",
   "metadata": {},
   "source": [
    "#### import required packages and utilities"
   ]
  },
  {
   "cell_type": "code",
   "execution_count": 1,
   "metadata": {},
   "outputs": [],
   "source": [
    "import numpy as np\n",
    "import pandas as pd\n",
    "import pickle\n",
    "from matplotlib import pyplot as plt\n",
    "import shap as shap\n",
    "import os\n",
    "import shutil\n",
    "\n",
    "# import tikzplotlib\n",
    "from matplotlib import rc\n",
    "rc('font',**{'family':'serif','serif':['Computer Modern Roman']})\n",
    "rc('text', usetex=True)\n",
    "\n",
    "import utils as utils"
   ]
  },
  {
   "cell_type": "markdown",
   "metadata": {},
   "source": [
    "#### variation of the sampling points\n",
    "\n",
    "Set the number of discritization points (i.e. data dimensionality reduction on the input layer)\n",
    "\n",
    "we will study\n",
    "- 1960 samples (1 Hz sampling, no interpolation or downsampling)\n",
    "- 980 samples (2Hz sampling)\n",
    "- 196 samples (10Hz sampling)"
   ]
  },
  {
   "cell_type": "code",
   "execution_count": 2,
   "metadata": {},
   "outputs": [],
   "source": [
    "# variation of the sampling and the factor dimensions\n",
    "sampling_rates = [1960, 980, 196]"
   ]
  },
  {
   "cell_type": "markdown",
   "metadata": {},
   "source": [
    "#### create data splits and save to local .pickle files\n",
    "\n",
    "structure of each file: [X_train, X_test, y_train, y_test, factor_names, f]\n",
    "\n",
    "name of the file: data_ [number of sampling points] .pickle"
   ]
  },
  {
   "cell_type": "code",
   "execution_count": 3,
   "metadata": {},
   "outputs": [
    {
     "name": "stdout",
     "output_type": "stream",
     "text": [
      "number of factors: 20\n",
      "removed 6 all-negative samples\n",
      "number of measurements: 3073\n",
      "number of frequency points: 1960\n",
      "number of factors: 20\n",
      "removed 6 all-negative samples\n",
      "number of measurements: 3073\n",
      "number of frequency points: 980\n",
      "number of factors: 20\n",
      "removed 6 all-negative samples\n",
      "number of measurements: 3073\n",
      "number of frequency points: 196\n"
     ]
    }
   ],
   "source": [
    "# load the data, perform smoothing and downsamling\n",
    "for n_samples in sampling_rates:\n",
    "    X, factors, factor_names, f = utils.load_data(n_sampling=n_samples)\n",
    "    X_train, X_test, y_train, y_test = utils.prepare_data_multivariate(X, factors, cv_flag=True)\n",
    "    \n",
    "    # save data to local .pickle file\n",
    "    filename = 'data_' + str(n_samples) + '.pickle'\n",
    "    outfile = open(filename,'wb')\n",
    "    pickle.dump([X_train, X_test, y_train, y_test, factor_names, f],outfile)\n",
    "    outfile.close()\n",
    "    "
   ]
  }
 ],
 "metadata": {
  "kernelspec": {
   "display_name": "Python 3",
   "language": "python",
   "name": "python3"
  },
  "language_info": {
   "codemirror_mode": {
    "name": "ipython",
    "version": 3
   },
   "file_extension": ".py",
   "mimetype": "text/x-python",
   "name": "python",
   "nbconvert_exporter": "python",
   "pygments_lexer": "ipython3",
   "version": "3.7.1"
  }
 },
 "nbformat": 4,
 "nbformat_minor": 4
}
